{
 "cells": [
  {
   "cell_type": "code",
   "execution_count": null,
   "metadata": {},
   "outputs": [],
   "source": [
    "### Runnable은 런타임에 실행될 수 있는 모든 객체를 의미한다."
   ]
  },
  {
   "cell_type": "code",
   "execution_count": 1,
   "metadata": {},
   "outputs": [
    {
     "data": {
      "text/plain": [
       "True"
      ]
     },
     "execution_count": 1,
     "metadata": {},
     "output_type": "execute_result"
    }
   ],
   "source": [
    "from dotenv import load_dotenv\n",
    "\n",
    "load_dotenv(dotenv_path=\"../.env\")"
   ]
  },
  {
   "cell_type": "code",
   "execution_count": 2,
   "metadata": {},
   "outputs": [],
   "source": [
    "from langchain_openai import ChatOpenAI\n",
    "\n",
    "llm = ChatOpenAI(\n",
    "    model_name = \"gpt-4o-mini\",\n",
    "    temperature=0.1\n",
    ")"
   ]
  },
  {
   "cell_type": "code",
   "execution_count": 3,
   "metadata": {},
   "outputs": [],
   "source": [
    "from langchain_core.prompts import PromptTemplate\n",
    "from langchain_core.output_parsers import StrOutputParser\n",
    "\n",
    "prompt = PromptTemplate.from_template(\"{lecture}에 대해 3문장으로 설명해줘\")\n",
    "\n",
    "chain = prompt | llm | StrOutputParser()"
   ]
  },
  {
   "cell_type": "code",
   "execution_count": 4,
   "metadata": {},
   "outputs": [
    {
     "name": "stdout",
     "output_type": "stream",
     "text": [
      "리액트(React)는 사용자 인터페이스를 구축하기 위한 JavaScript 라이브러리로, 컴포넌트 기반 아키텍처를 사용하여 재사용 가능한 UI 구성 요소를 만들 수 있게 해줍니다. 가상 DOM(Virtual DOM)을 활용하여 효율적으로 UI를 업데이트하며, 상태 관리와 데이터 흐름을 쉽게 처리할 수 있는 기능을 제공합니다. 리액트는 대규모 애플리케이션 개발에 적합하며, 다양한 생태계와 도구들이 함께 제공되어 개발자들에게 많은 편의성을 제공합니다.\n"
     ]
    }
   ],
   "source": [
    "print(chain.invoke({\"lecture\" : \"리엑트\"}));"
   ]
  },
  {
   "cell_type": "code",
   "execution_count": 5,
   "metadata": {},
   "outputs": [
    {
     "name": "stdout",
     "output_type": "stream",
     "text": [
      "Python은 간결하고 읽기 쉬운 문법을 가진 고급 프로그래밍 언어로, 다양한 용도로 사용됩니다. 데이터 분석, 웹 개발, 인공지능 등 여러 분야에서 널리 활용되며, 방대한 라이브러리와 커뮤니티 지원이 특징입니다. 또한, 플랫폼 독립적이어서 다양한 운영체제에서 실행할 수 있습니다."
     ]
    }
   ],
   "source": [
    "for token in chain.stream({\"lecture\" : \"Python\"}):\n",
    "\n",
    "    print(token, end=\"\", flush=True)"
   ]
  },
  {
   "cell_type": "code",
   "execution_count": 6,
   "metadata": {},
   "outputs": [
    {
     "name": "stdout",
     "output_type": "stream",
     "text": [
      "['파이썬은 간결하고 읽기 쉬운 문법을 가진 고급 프로그래밍 언어로, 다양한 분야에서 널리 사용됩니다. 데이터 분석, 웹 개발, 인공지능 등 여러 응용 프로그램을 지원하는 풍부한 라이브러리와 프레임워크를 제공합니다. 또한, 플랫폼 독립적이어서 다양한 운영 체제에서 실행할 수 있는 장점이 있습니다.', '자바는 객체 지향 프로그래밍 언어로, 플랫폼 독립성을 제공하여 \"한 번 작성하면 어디서나 실행\"할 수 있는 특징이 있습니다. 강력한 메모리 관리와 자동 가비지 수집 기능을 통해 개발자가 메모리 관리를 신경 쓰지 않아도 되도록 돕습니다. 또한, 풍부한 라이브러리와 프레임워크를 통해 다양한 애플리케이션 개발에 널리 사용됩니다.', '자바스크립트는 웹 페이지에 동적인 기능을 추가하기 위해 사용되는 프로그래밍 언어입니다. 클라이언트 측에서 실행되며, HTML과 CSS와 함께 웹 개발의 핵심 기술 중 하나로 자리잡고 있습니다. 또한, Node.js와 같은 런타임 환경을 통해 서버 측 프로그래밍에도 활용될 수 있습니다.', 'SQL(Structured Query Language)은 데이터베이스 관리 시스템에서 데이터를 정의, 조작 및 쿼리하기 위해 사용되는 표준 프로그래밍 언어입니다. 사용자는 SQL을 통해 데이터베이스에 저장된 정보를 검색, 삽입, 업데이트 및 삭제할 수 있으며, 데이터의 구조를 정의하는 데도 활용됩니다. SQL은 관계형 데이터베이스에서 데이터를 효율적으로 관리하고 처리하는 데 필수적인 도구로 널리 사용됩니다.']\n"
     ]
    }
   ],
   "source": [
    "result = chain.batch(\n",
    "    [\n",
    "        {\"lecture\": \"파이썬\"},\n",
    "        {\"lecture\": \"자바\"},\n",
    "        {\"lecture\": \"자바스크립트\"},\n",
    "        {\"lecture\": \"SQL\"}\n",
    "    ],\n",
    "    config={\"max_concurrency\": 3}\n",
    ")\n",
    "\n",
    "print(result)\n"
   ]
  },
  {
   "cell_type": "code",
   "execution_count": 7,
   "metadata": {},
   "outputs": [],
   "source": [
    "chain1 = (\n",
    "    PromptTemplate.from_template(\"{country} 의 수도는 어디야?\")\n",
    "    | llm\n",
    "    | StrOutputParser()\n",
    ")\n",
    "\n",
    "chain2 = (\n",
    "    PromptTemplate.from_template(\"{country} 의 면적은 얼마야?\")\n",
    "    | llm\n",
    "    | StrOutputParser()\n",
    ")"
   ]
  },
  {
   "cell_type": "code",
   "execution_count": 8,
   "metadata": {},
   "outputs": [],
   "source": [
    "from langchain_core.runnables import RunnableParallel\n",
    "\n",
    "# 병렬 실행 체인\n",
    "combined = RunnableParallel(capital=chain1, area=chain2)"
   ]
  },
  {
   "cell_type": "code",
   "execution_count": 9,
   "metadata": {},
   "outputs": [
    {
     "name": "stdout",
     "output_type": "stream",
     "text": [
      "대한민국의 수도는 서울입니다.\n"
     ]
    }
   ],
   "source": [
    "print(chain1.invoke({\"country\" : \"대한민국\"}))"
   ]
  },
  {
   "cell_type": "code",
   "execution_count": 10,
   "metadata": {},
   "outputs": [
    {
     "name": "stdout",
     "output_type": "stream",
     "text": [
      "미국의 면적은 약 9,830,000 평방킬로미터(3,796,000 평방마일)입니다. 이는 미국이 세계에서 세 번째로 큰 나라임을 의미합니다.\n"
     ]
    }
   ],
   "source": [
    "print(chain2.invoke({\"country\" : \"미국\"}))"
   ]
  },
  {
   "cell_type": "code",
   "execution_count": 11,
   "metadata": {},
   "outputs": [
    {
     "name": "stdout",
     "output_type": "stream",
     "text": [
      "{'capital': '대한민국의 수도는 서울입니다.', 'area': '대한민국의 면적은 약 100,210 평방킬로미터(㎢)입니다. 이는 한반도의 남쪽 부분에 해당하며, 북한과 함께 한반도를 구성하고 있습니다.'}\n"
     ]
    }
   ],
   "source": [
    "result = combined.invoke({\"country\" : \"대한민국\"})\n",
    "\n",
    "print(result)"
   ]
  },
  {
   "cell_type": "code",
   "execution_count": 12,
   "metadata": {},
   "outputs": [
    {
     "name": "stdout",
     "output_type": "stream",
     "text": [
      "대한민국의 수도는 서울입니다.\n",
      "대한민국의 면적은 약 100,210 평방킬로미터(㎢)입니다. 이는 한반도의 남쪽 부분에 해당하며, 북한과 함께 한반도를 구성하고 있습니다.\n"
     ]
    }
   ],
   "source": [
    "print(result[\"capital\"])\n",
    "print(result[\"area\"])"
   ]
  },
  {
   "cell_type": "code",
   "execution_count": 13,
   "metadata": {},
   "outputs": [],
   "source": [
    "llm = ChatOpenAI(\n",
    "    model_name=\"gpt-4o-mini\",\n",
    "    temperature=0.0\n",
    ")\n",
    "\n",
    "prompt = PromptTemplate.from_template(\"{num}의 약수를 알려줘\")\n",
    "\n",
    "chain = prompt | llm | StrOutputParser()"
   ]
  },
  {
   "cell_type": "code",
   "execution_count": 14,
   "metadata": {},
   "outputs": [
    {
     "data": {
      "text/plain": [
       "'10의 약수는 1, 2, 5, 10입니다.'"
      ]
     },
     "execution_count": 14,
     "metadata": {},
     "output_type": "execute_result"
    }
   ],
   "source": [
    "# invoke()를 통해 실행할때는 입력이 딕셔너리여야 하지만,\n",
    "# 1개의 변수만 템플릿에 작성이 되었다면, 값만 전달해도 된다.\n",
    "chain.invoke(10)"
   ]
  },
  {
   "cell_type": "code",
   "execution_count": 15,
   "metadata": {},
   "outputs": [
    {
     "data": {
      "text/plain": [
       "'10의 약수는 1, 2, 5, 10입니다.'"
      ]
     },
     "execution_count": 15,
     "metadata": {},
     "output_type": "execute_result"
    }
   ],
   "source": [
    "from langchain_core.runnables import RunnablePassthrough\n",
    "\n",
    "passthrough_chain = {\"num\": RunnablePassthrough()} | prompt | llm | StrOutputParser()\n",
    "\n",
    "passthrough_chain.invoke({\"num\": 10})"
   ]
  },
  {
   "cell_type": "code",
   "execution_count": 16,
   "metadata": {},
   "outputs": [
    {
     "data": {
      "text/plain": [
       "{'num': 1, 'new_date': 3}"
      ]
     },
     "execution_count": 16,
     "metadata": {},
     "output_type": "execute_result"
    }
   ],
   "source": [
    "RunnablePassthrough.assign(new_date = lambda x: x[\"num\"] * 3).invoke({\"num\" : 1})"
   ]
  },
  {
   "cell_type": "code",
   "execution_count": 17,
   "metadata": {},
   "outputs": [],
   "source": [
    "from datetime import datetime\n",
    "\n",
    "def get_today(num):\n",
    "    # print(\"num : \", num)\n",
    "    return datetime.now().strftime(\"%b-%d\")\n",
    "\n",
    "# get_today()"
   ]
  },
  {
   "cell_type": "code",
   "execution_count": 18,
   "metadata": {},
   "outputs": [],
   "source": [
    "from langchain_core.runnables import RunnableLambda, RunnablePassthrough\n",
    "from operator import itemgetter\n",
    "\n",
    "\n",
    "# prompt\n",
    "prompt = PromptTemplate.from_template(\n",
    "    \"{today}가 생일인 유명인 {n}명을 알려줘\"\n",
    ")\n",
    "\n",
    "# llm\n",
    "llm = ChatOpenAI(temperature=0, model_name=\"gpt-4o\")\n",
    "\n",
    "# chain 생성\n",
    "\n",
    "chain = (\n",
    "    {\"today\": RunnableLambda(get_today), \"n\": itemgetter(\"n\")}\n",
    "    | prompt\n",
    "    | llm\n",
    "    | StrOutputParser()\n",
    ")"
   ]
  },
  {
   "cell_type": "code",
   "execution_count": 19,
   "metadata": {},
   "outputs": [
    {
     "name": "stdout",
     "output_type": "stream",
     "text": [
      "10월 28일이 생일인 유명인 중 세 명은 다음과 같습니다:\n",
      "\n",
      "1. 빌 게이츠 (Bill Gates) - 마이크로소프트의 공동 창립자이자 자선가.\n",
      "2. 줄리아 로버츠 (Julia Roberts) - 아카데미상을 수상한 미국의 배우.\n",
      "3. 호아킨 피닉스 (Joaquin Phoenix) - 아카데미상을 수상한 미국의 배우.\n",
      "\n",
      "이들은 각자의 분야에서 큰 영향을 미친 인물들입니다.\n"
     ]
    }
   ],
   "source": [
    "print(chain.invoke({\"n\" : 3}))"
   ]
  }
 ],
 "metadata": {
  "kernelspec": {
   "display_name": "langchain_env",
   "language": "python",
   "name": "python3"
  },
  "language_info": {
   "codemirror_mode": {
    "name": "ipython",
    "version": 3
   },
   "file_extension": ".py",
   "mimetype": "text/x-python",
   "name": "python",
   "nbconvert_exporter": "python",
   "pygments_lexer": "ipython3",
   "version": "3.11.10"
  }
 },
 "nbformat": 4,
 "nbformat_minor": 2
}
