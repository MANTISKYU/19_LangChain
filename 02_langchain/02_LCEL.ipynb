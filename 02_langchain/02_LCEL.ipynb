{
 "cells": [
  {
   "cell_type": "markdown",
   "metadata": {
    "vscode": {
     "languageId": "plaintext"
    }
   },
   "source": [
    "## LCEL (LangChain Expression Language)\n",
    "* 사용자의 입력 -> 프롬프트 템플릿 -> LLM 모델 전달\n",
    "* 각 단계를 차례로 엮어서 하나의 파이프라인으로 만들어주는 것\n",
    "\n",
    "chain = prompt | model | output_parser"
   ]
  },
  {
   "cell_type": "markdown",
   "metadata": {
    "vscode": {
     "languageId": "plaintext"
    }
   },
   "source": [
    "### 프롬프트 탬플릿\n",
    "* 사용자의 입력 변수를 받아서 완전한 프롬프트 문자열을 만드는데 사용하는 템플릿"
   ]
  },
  {
   "cell_type": "code",
   "execution_count": 12,
   "metadata": {},
   "outputs": [],
   "source": [
    "from langchain_core.prompts import PromptTemplate\n",
    "\n",
    "template = \"{lecture}에 대해 설명해주세요\"\n",
    "\n",
    "prompt_template = PromptTemplate(template=template, input_variables=[\"lecture\"])"
   ]
  },
  {
   "cell_type": "code",
   "execution_count": 14,
   "metadata": {},
   "outputs": [
    {
     "ename": "TypeError",
     "evalue": "'dict' object is not callable",
     "output_type": "error",
     "traceback": [
      "\u001b[1;31m---------------------------------------------------------------------------\u001b[0m",
      "\u001b[1;31mTypeError\u001b[0m                                 Traceback (most recent call last)",
      "Cell \u001b[1;32mIn[14], line 1\u001b[0m\n\u001b[1;32m----> 1\u001b[0m lecture \u001b[38;5;241m=\u001b[39m \u001b[38;5;28;43minput\u001b[39;49m\u001b[43m(\u001b[49m\u001b[38;5;124;43m\"\u001b[39;49m\u001b[38;5;124;43m궁금한 과목을 입력하세요 : \u001b[39;49m\u001b[38;5;124;43m\"\u001b[39;49m\u001b[43m)\u001b[49m\n\u001b[0;32m      3\u001b[0m prompt \u001b[38;5;241m=\u001b[39m prompt_template\u001b[38;5;241m.\u001b[39mformat(lecture\u001b[38;5;241m=\u001b[39mlecture)\n\u001b[0;32m      5\u001b[0m \u001b[38;5;28mprint\u001b[39m(prompt)\n",
      "\u001b[1;31mTypeError\u001b[0m: 'dict' object is not callable"
     ]
    }
   ],
   "source": [
    "lecture = input(\"궁금한 과목을 입력하세요 : \")\n",
    "\n",
    "prompt = prompt_template.format(lecture=lecture)\n",
    "\n",
    "print(prompt)"
   ]
  },
  {
   "cell_type": "code",
   "execution_count": 15,
   "metadata": {},
   "outputs": [],
   "source": [
    "from langchain_openai import ChatOpenAI\n",
    "\n",
    "model = ChatOpenAI(\n",
    "    model=\"gpt-3.5-turbo\",\n",
    "    temperature=0.1\n",
    ")"
   ]
  },
  {
   "cell_type": "code",
   "execution_count": 16,
   "metadata": {},
   "outputs": [],
   "source": [
    "chain = prompt_template | model"
   ]
  },
  {
   "cell_type": "code",
   "execution_count": 6,
   "metadata": {},
   "outputs": [],
   "source": [
    "# Prompt Template의 변수에 작성할때는 Dictionary 형태로 Key-Value쌍으로\n",
    "# 입력을 줄 수 있다.\n",
    "input = {\"lecture\":\"랭체인\"}"
   ]
  },
  {
   "cell_type": "code",
   "execution_count": 17,
   "metadata": {},
   "outputs": [
    {
     "data": {
      "text/plain": [
       "AIMessage(content='랭체인은 블록체인 기술을 활용하여 게임 산업에 적용된 분산형 데이터베이스 시스템입니다. 이는 게임 내에서 발생하는 모든 데이터를 블록체인에 기록하여 안전하게 보관하고 관리할 수 있도록 하는 기술입니다.\\n\\n랭체인은 게임 내 아이템의 소유권을 확실하게 보장하고 거래를 투명하게 관리할 수 있도록 합니다. 또한 게임 내에서 발생하는 모든 거래 내역을 블록체인에 기록하여 변조나 조작을 방지하며, 게임 내 경제 시스템을 안정적으로 유지할 수 있도록 합니다.\\n\\n또한 랭체인은 게임 개발사와 유저 간의 신뢰를 증대시키고, 게임 내 경제 생태계를 활성화시키는데 도움을 줍니다. 블록체인 기술을 활용하여 게임 산업을 혁신하고 보다 안전하고 투명한 환경을 조성하는데 기여하고 있습니다.', additional_kwargs={'refusal': None}, response_metadata={'token_usage': {'completion_tokens': 339, 'prompt_tokens': 18, 'total_tokens': 357, 'completion_tokens_details': {'audio_tokens': None, 'reasoning_tokens': 0}, 'prompt_tokens_details': {'audio_tokens': None, 'cached_tokens': 0}}, 'model_name': 'gpt-3.5-turbo-0125', 'system_fingerprint': None, 'finish_reason': 'stop', 'logprobs': None}, id='run-cf9301ec-dbdd-4d26-87a7-444b2987e3ea-0', usage_metadata={'input_tokens': 18, 'output_tokens': 339, 'total_tokens': 357, 'input_token_details': {'cache_read': 0}, 'output_token_details': {'reasoning': 0}})"
      ]
     },
     "execution_count": 17,
     "metadata": {},
     "output_type": "execute_result"
    }
   ],
   "source": [
    "chain.invoke(input)"
   ]
  },
  {
   "cell_type": "code",
   "execution_count": 19,
   "metadata": {},
   "outputs": [],
   "source": [
    "from langchain_core.output_parsers import StrOutputParser\n",
    "\n",
    "output_parser = StrOutputParser()"
   ]
  },
  {
   "cell_type": "code",
   "execution_count": 20,
   "metadata": {},
   "outputs": [],
   "source": [
    "chain = prompt_template | model | output_parser"
   ]
  },
  {
   "cell_type": "code",
   "execution_count": 21,
   "metadata": {},
   "outputs": [
    {
     "data": {
      "text/plain": [
       "'랭체인(LangChain)은 자연어 처리(NLP) 애플리케이션을 구축하기 위한 파이썬 기반의 프레임워크입니다. 주로 대화형 AI, 챗봇, 텍스트 생성, 질의응답 시스템 등과 같은 다양한 애플리케이션에서 사용됩니다. 랭체인의 주요 목표는 언어 모델을 더 쉽게 통합하고 활용할 수 있도록 돕는 것입니다.\\n\\n랭체인은 다음과 같은 기능과 특징을 제공합니다:\\n\\n1. **모듈화된 구성요소**: 랭체인은 다양한 NLP 작업에 맞춰 쉽게 조합할 수 있는 모듈화된 구성요소를 제공합니다. 이를 통해 개발자는 자신의 필요에 맞게 시스템을 손쉽게 커스터마이즈할 수 있습니다.\\n\\n2. **체인 구성**: 사용자는 여러 NLP 모델과 기능을 체인 형태로 연결하여 복잡한 작업을 수행할 수 있습니다. 예를 들어, 먼저 문서를 요약한 후, 요약된 정보에 대해 질문을 답변하는 식의 체인을 구성할 수 있습니다.\\n\\n3. **대화 관리**: 다중 턴 대화를 관리하고 문맥을 유지하는 기능을 제공합니다. 이를 통해 더 자연스러운 대화형 AI 애플리케이션을 개발할 수 있습니다.\\n\\n4. **통합된 데이터 소스**: 여러 데이터 소스와 API를 쉽게 통합하여 사용할 수 있도록 지원합니다. 이를 통해 외부 데이터와의 상호작용이 한층 원활해집니다.\\n\\n5. **확장성**: 랭체인은 다양한 NLP 모델과의 통합을 지원하며, 새로운 모델이나 기능을 쉽게 추가할 수 있는 구조로 설계되어 있습니다.\\n\\n랭체인은 특히 GPT-3, BERT와 같은 대형 언어 모델을 활용한 애플리케이션 개발에 유용하며, 이러한 모델을 활용하여 복잡한 자연어 처리 작업을 간소화하는 데 중점을 두고 있습니다.'"
      ]
     },
     "execution_count": 21,
     "metadata": {},
     "output_type": "execute_result"
    }
   ],
   "source": [
    "chain.invoke(input)"
   ]
  },
  {
   "cell_type": "code",
   "execution_count": 22,
   "metadata": {},
   "outputs": [],
   "source": [
    "### 영어 회화를 알려주는 선생님 챗봇\n",
    "### 어떤 상황을 주면 영어회화 + 한글 해석\n",
    "\n",
    "template = \"\"\"\n",
    "당신은 영어를 가르치는 10년차 선생님입니다 주어진 상황에 맞는 영어 회화를 작성해주세요\n",
    "양식은 [FORMAT]을 참고하여 작성해주세요\n",
    "\n",
    "#상황:\n",
    "{question}\n",
    "\n",
    "#FORMAT:\n",
    "- 영어 회화:\n",
    "- 한글 해석:\n",
    "\"\"\"\n",
    "\n",
    "prompt = PromptTemplate.from_template(template)\n",
    "\n",
    "model = ChatOpenAI(model_name=\"gpt-4o\")\n",
    "\n",
    "output_parser = StrOutputParser()\n",
    "\n"
   ]
  },
  {
   "cell_type": "code",
   "execution_count": 23,
   "metadata": {},
   "outputs": [],
   "source": [
    "chain = prompt | model | output_parser"
   ]
  },
  {
   "cell_type": "code",
   "execution_count": 24,
   "metadata": {},
   "outputs": [
    {
     "name": "stdout",
     "output_type": "stream",
     "text": [
      "- 영어 회화:\n",
      "  - Waiter: Good evening! Welcome to our restaurant. How many are in your party?\n",
      "  - You: Good evening! It's just me tonight.\n",
      "  - Waiter: Great, please follow me to your table. Here's the menu. Can I start you off with something to drink?\n",
      "  - You: Yes, I'd like a glass of water, please.\n",
      "  - Waiter: Certainly. Are you ready to order your meal, or do you need a few more minutes?\n",
      "  - You: I think I'm ready. Could I have the grilled salmon with a side of steamed vegetables?\n",
      "  - Waiter: Absolutely. Would you like anything else with your meal?\n",
      "  - You: No, that's all for now, thank you.\n",
      "  - Waiter: You're welcome. Your order will be out shortly.\n",
      "\n",
      "- 한글 해석:\n",
      "  - 웨이터: 안녕하세요! 저희 식당에 오신 것을 환영합니다. 몇 분이신가요?\n",
      "  - 당신: 안녕하세요! 오늘은 저 혼자예요.\n",
      "  - 웨이터: 좋습니다. 이쪽으로 오세요. 여기 메뉴입니다. 음료를 먼저 주문하시겠어요?\n",
      "  - 당신: 네, 물 한 잔 주세요.\n",
      "  - 웨이터: 물론입니다. 식사 주문하실 준비가 되셨나요, 아니면 몇 분 더 필요하신가요?\n",
      "  - 당신: 준비됐어요. 구운 연어에 찐 야채를 곁들여 주세요.\n",
      "  - 웨이터: 알겠습니다. 식사와 함께 다른 것 더 필요하신가요?\n",
      "  - 당신: 아니요, 지금은 이걸로 괜찮습니다. 감사합니다.\n",
      "  - 웨이터: 알겠습니다. 주문하신 음식은 곧 나올 것입니다.\n"
     ]
    }
   ],
   "source": [
    "print(chain.invoke({\"question\": \"저는 식당에 가서 음식을 주문하고 싶어요\"}))"
   ]
  },
  {
   "cell_type": "code",
   "execution_count": 25,
   "metadata": {},
   "outputs": [
    {
     "name": "stdout",
     "output_type": "stream",
     "text": [
      "- 요리 재료: 수박, 사이다\n",
      "- 요리 이름: 수박 사이다 샤베트\n",
      "- 요리법:\n",
      "  1. 수박의 껍질을 제거하고 씨를 뺀 뒤, 수박 과육을 작게 자릅니다.\n",
      "  2. 믹서기에 자른 수박을 넣고 곱게 갈아줍니다.\n",
      "  3. 갈아놓은 수박 주스를 체에 걸러 수박즙을 준비합니다.\n",
      "  4. 수박즙에 사이다를 부어 잘 섞어줍니다.\n",
      "  5. 잘 섞인 혼합물을 넓은 용기에 붓고 냉동실에 넣어 얼립니다.\n",
      "  6. 30분 간격으로 포크를 사용해 긁어가며 얼음을 부숴줍니다.\n",
      "  7. 샤베트가 원하는 질감이 될 때까지 이 과정을 반복합니다.\n",
      "  8. 완성된 수박 사이다 샤베트를 예쁜 그릇에 담아 시원하게 즐기세요!\n"
     ]
    }
   ],
   "source": [
    "\n",
    "template = \"\"\"\n",
    "당신은 요리사입니다 주어진 재료를 사용해서 요리법을 추천해주세요\n",
    "양식은 [FORMAT]을 참고하여 작성해주세요\n",
    "\n",
    "#상황:\n",
    "{question}\n",
    "\n",
    "#FORMAT:\n",
    "- 요리 재료:\n",
    "- 요리 이름\n",
    "- 요리법:\n",
    "\"\"\"\n",
    "\n",
    "prompt = PromptTemplate.from_template(template)\n",
    "\n",
    "model = ChatOpenAI(model_name=\"gpt-4o\")\n",
    "\n",
    "output_parser = StrOutputParser()\n",
    "\n",
    "chain = prompt | model | output_parser\n",
    "\n",
    "print(chain.invoke({\"question\": \"['수박', '사이다']\"}))\n"
   ]
  }
 ],
 "metadata": {
  "kernelspec": {
   "display_name": "langchain_env",
   "language": "python",
   "name": "python3"
  },
  "language_info": {
   "codemirror_mode": {
    "name": "ipython",
    "version": 3
   },
   "file_extension": ".py",
   "mimetype": "text/x-python",
   "name": "python",
   "nbconvert_exporter": "python",
   "pygments_lexer": "ipython3",
   "version": "3.11.10"
  }
 },
 "nbformat": 4,
 "nbformat_minor": 2
}
