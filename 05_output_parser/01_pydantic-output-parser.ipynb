{
 "cells": [
  {
   "cell_type": "markdown",
   "metadata": {},
   "source": [
    "pydamicOutputparser"
   ]
  },
  {
   "cell_type": "code",
   "execution_count": 2,
   "metadata": {},
   "outputs": [
    {
     "data": {
      "text/plain": [
       "True"
      ]
     },
     "execution_count": 2,
     "metadata": {},
     "output_type": "execute_result"
    }
   ],
   "source": [
    "from dotenv import load_dotenv\n",
    "\n",
    "load_dotenv()"
   ]
  },
  {
   "cell_type": "code",
   "execution_count": null,
   "metadata": {},
   "outputs": [],
   "source": []
  },
  {
   "cell_type": "code",
   "execution_count": 3,
   "metadata": {},
   "outputs": [],
   "source": [
    "from langchain_openai import ChatOpenAI\n",
    "\n",
    "\n",
    "llm = ChatOpenAI(temperature=0, model=\"gpt-4o\")"
   ]
  },
  {
   "cell_type": "code",
   "execution_count": 4,
   "metadata": {},
   "outputs": [],
   "source": [
    "email_conversation = email_conversation = \"\"\"From: 박지영 (jiyoung.park@techsolutions.kr)\n",
    "To: 김민수 (minsu@globaltech.com)\n",
    "Subject: AI 솔루션 도입 제안 및 컨설팅 미팅 요청\n",
    "\n",
    "김민수 부장님께,\n",
    "\n",
    "안녕하세요, 테크솔루션즈의 박지영 이사입니다. 귀사의 디지털 전환 계획에 대해 알게 되어 연락드립니다. 저희 테크솔루션즈는 AI 기반 비즈니스 솔루션 분야에서 10년 이상의 경험을 보유한 선도기업입니다.\n",
    "\n",
    "귀사의 비즈니스 프로세스를 최적화할 수 있는 맞춤형 AI 솔루션을 제안드리고 싶습니다. 특히 데이터 분석, 자동화 시스템, 예측 모델링 분야에서 혁신적인 솔루션을 보유하고 있습니다.\n",
    "\n",
    "구체적인 논의를 위해 다음 달 3월 20일 오후 2시에 미팅을 제안드립니다. 귀사의 요구사항과 목표를 자세히 파악하고, 최적의 솔루션을 제시해드리고 싶습니다.\n",
    "\n",
    "검토 부탁드립니다.\n",
    "\n",
    "감사합니다.\n",
    "\n",
    "박지영\n",
    "이사\n",
    "테크솔루션즈\n",
    "\"\"\""
   ]
  },
  {
   "cell_type": "markdown",
   "metadata": {},
   "source": [
    "출력 파서를 사용하지 않는 경우"
   ]
  },
  {
   "cell_type": "code",
   "execution_count": 5,
   "metadata": {},
   "outputs": [
    {
     "name": "stdout",
     "output_type": "stream",
     "text": [
      "- 발신자: 박지영, 테크솔루션즈 이사\n",
      "- 수신자: 김민수, 글로벌테크 부장\n",
      "- 주제: AI 솔루션 도입 제안 및 컨설팅 미팅 요청\n",
      "- 주요 내용:\n",
      "  - 테크솔루션즈는 AI 기반 비즈니스 솔루션 분야에서 10년 이상의 경험을 보유한 선도기업임.\n",
      "  - 데이터 분석, 자동화 시스템, 예측 모델링 분야에서 맞춤형 AI 솔루션 제안.\n",
      "  - 3월 20일 오후 2시에 미팅 제안.\n",
      "  - 귀사의 요구사항과 목표를 파악하여 최적의 솔루션 제시 희망.\n"
     ]
    }
   ],
   "source": [
    "from langchain_core.prompts import PromptTemplate\n",
    "from langchain_core.output_parsers import StrOutputParser\n",
    "\n",
    "prompt = PromptTemplate.from_template(\n",
    "    \"다음의 이메일 내용중 중요한 내용을 추출하세요. \\n {email_conversation}\"\n",
    ")\n",
    "\n",
    "chain = prompt | llm | StrOutputParser()\n",
    "\n",
    "answer = chain.invoke({\"email_conversation\" : email_conversation})\n",
    "\n",
    "print(answer)"
   ]
  },
  {
   "cell_type": "code",
   "execution_count": 6,
   "metadata": {},
   "outputs": [],
   "source": [
    "from pydantic import BaseModel, Field\n",
    "from langchain_core.output_parsers import PydanticOutputParser\n",
    "\n",
    "class EmailSummary(BaseModel):\n",
    "    person: str = Field(description=\"메일을 보낸 사람\")\n",
    "    email: str = Field(description=\"메일을 보낸 사람의 이메일 주소\")\n",
    "    subject: str = Field(description=\"메일 제목\")\n",
    "    summary: str = Field(description=\"본문 텍스트\")\n",
    "    date: str = Field(description=\"메일 본문에 언급된 미팅 날짜와 시간\")\n",
    "\n",
    "parser = PydanticOutputParser(pydantic_object=EmailSummary)"
   ]
  },
  {
   "cell_type": "code",
   "execution_count": 7,
   "metadata": {},
   "outputs": [
    {
     "name": "stdout",
     "output_type": "stream",
     "text": [
      "The output should be formatted as a JSON instance that conforms to the JSON schema below.\n",
      "\n",
      "As an example, for the schema {\"properties\": {\"foo\": {\"title\": \"Foo\", \"description\": \"a list of strings\", \"type\": \"array\", \"items\": {\"type\": \"string\"}}}, \"required\": [\"foo\"]}\n",
      "the object {\"foo\": [\"bar\", \"baz\"]} is a well-formatted instance of the schema. The object {\"properties\": {\"foo\": [\"bar\", \"baz\"]}} is not well-formatted.\n",
      "\n",
      "Here is the output schema:\n",
      "```\n",
      "{\"properties\": {\"person\": {\"description\": \"메일을 보낸 사람\", \"title\": \"Person\", \"type\": \"string\"}, \"email\": {\"description\": \"메일을 보낸 사람의 이메일 주소\", \"title\": \"Email\", \"type\": \"string\"}, \"subject\": {\"description\": \"메일 제목\", \"title\": \"Subject\", \"type\": \"string\"}, \"summary\": {\"description\": \"본문 텍스트\", \"title\": \"Summary\", \"type\": \"string\"}, \"date\": {\"description\": \"메일 본문에 언급된 미팅 날짜와 시간\", \"title\": \"Date\", \"type\": \"string\"}}, \"required\": [\"person\", \"email\", \"subject\", \"summary\", \"date\"]}\n",
      "```\n"
     ]
    }
   ],
   "source": [
    "print(parser.get_format_instructions())"
   ]
  },
  {
   "cell_type": "code",
   "execution_count": 8,
   "metadata": {},
   "outputs": [],
   "source": [
    "prompt = PromptTemplate.from_template(\n",
    "\"\"\"\n",
    "You are helpful assistant. Please answer the following question in korean\n",
    "\n",
    "Question:\n",
    "{question}\n",
    "\n",
    "Email CONVERSATION:\n",
    "{email_conversation}\n",
    "\n",
    "FORMAT:\n",
    "{format}\n",
    "\n",
    "\"\"\"\n",
    ")\n",
    "\n",
    "prompt = prompt.partial(format=parser.get_format_instructions())"
   ]
  },
  {
   "cell_type": "code",
   "execution_count": 9,
   "metadata": {},
   "outputs": [
    {
     "name": "stdout",
     "output_type": "stream",
     "text": [
      "```json\n",
      "{\n",
      "    \"person\": \"박지영\",\n",
      "    \"email\": \"jiyoung.park@techsolutions.kr\",\n",
      "    \"subject\": \"AI 솔루션 도입 제안 및 컨설팅 미팅 요청\",\n",
      "    \"summary\": \"테크솔루션즈의 박지영 이사가 김민수 부장님에게 AI 기반 비즈니스 솔루션을 제안하며, 데이터 분석, 자동화 시스템, 예측 모델링 분야에서 혁신적인 솔루션을 제공할 수 있음을 강조하고, 3월 20일 오후 2시에 미팅을 제안함.\",\n",
      "    \"date\": \"3월 20일 오후 2시\"\n",
      "}\n",
      "```\n"
     ]
    }
   ],
   "source": [
    "chain = prompt | llm\n",
    "\n",
    "response = chain.invoke(\n",
    "    {\n",
    "        \"email_conversation\" : email_conversation,\n",
    "        \"question\": \"이메일 내용 중 중요한 내용을 추출해주세요.\"\n",
    "    }\n",
    ")\n",
    "\n",
    "print(response.content)"
   ]
  },
  {
   "cell_type": "code",
   "execution_count": 10,
   "metadata": {},
   "outputs": [
    {
     "name": "stdout",
     "output_type": "stream",
     "text": [
      "박지영\n",
      "jiyoung.park@techsolutions.kr\n",
      "AI 솔루션 도입 제안 및 컨설팅 미팅 요청\n",
      "테크솔루션즈의 박지영 이사가 김민수 부장님에게 AI 기반 비즈니스 솔루션을 제안하며, 데이터 분석, 자동화 시스템, 예측 모델링 분야에서 혁신적인 솔루션을 제공할 수 있음을 강조하고, 3월 20일 오후 2시에 미팅을 제안함.\n"
     ]
    }
   ],
   "source": [
    "structured_output = parser.parse(response.content)\n",
    "\n",
    "print(structured_output.person)\n",
    "print(structured_output.email)\n",
    "print(structured_output.subject)\n",
    "print(structured_output.summary)"
   ]
  },
  {
   "cell_type": "code",
   "execution_count": 11,
   "metadata": {},
   "outputs": [
    {
     "name": "stdout",
     "output_type": "stream",
     "text": [
      "person='박지영' email='jiyoung.park@techsolutions.kr' subject='AI 솔루션 도입 제안 및 컨설팅 미팅 요청' summary='테크솔루션즈의 박지영 이사가 김민수 부장에게 AI 기반 비즈니스 솔루션을 제안하며, 데이터 분석, 자동화 시스템, 예측 모델링 분야에서의 혁신적인 솔루션을 소개하고자 한다. 3월 20일 오후 2시에 미팅을 제안하며, 귀사의 요구사항과 목표를 파악하여 최적의 솔루션을 제시하고자 한다.' date='3월 20일 오후 2시'\n"
     ]
    }
   ],
   "source": [
    "chain = prompt | llm | parser\n",
    "\n",
    "response = chain.invoke(\n",
    "    {\n",
    "        \"email_conversation\": email_conversation,\n",
    "        \"question\": \"이메일 내용 중 중요한 내용을 추출해 주세요\"\n",
    "    }\n",
    ")\n",
    "\n",
    "print(response)"
   ]
  },
  {
   "cell_type": "code",
   "execution_count": 12,
   "metadata": {},
   "outputs": [],
   "source": [
    "llm_with_structured = ChatOpenAI(\n",
    "    temperature=0,\n",
    "    model=\"gpt-4o\"\n",
    ").with_structured_output(EmailSummary)"
   ]
  },
  {
   "cell_type": "code",
   "execution_count": 13,
   "metadata": {},
   "outputs": [
    {
     "data": {
      "text/plain": [
       "EmailSummary(person='박지영', email='jiyoung.park@techsolutions.kr', subject='AI 솔루션 도입 제안 및 컨설팅 미팅 요청', summary='테크솔루션즈의 박지영 이사가 김민수 부장님께 AI 기반 비즈니스 솔루션 도입을 제안하며, 데이터 분석, 자동화 시스템, 예측 모델링 분야의 혁신적인 솔루션을 소개하고자 합니다. 이를 위해 3월 20일 오후 2시에 미팅을 제안드립니다.', date='3월 20일 오후 2시')"
      ]
     },
     "execution_count": 13,
     "metadata": {},
     "output_type": "execute_result"
    }
   ],
   "source": [
    "answer = llm_with_structured.invoke(email_conversation)\n",
    "\n",
    "answer"
   ]
  }
 ],
 "metadata": {
  "kernelspec": {
   "display_name": "langchain_env",
   "language": "python",
   "name": "python3"
  },
  "language_info": {
   "codemirror_mode": {
    "name": "ipython",
    "version": 3
   },
   "file_extension": ".py",
   "mimetype": "text/x-python",
   "name": "python",
   "nbconvert_exporter": "python",
   "pygments_lexer": "ipython3",
   "version": "3.11.10"
  }
 },
 "nbformat": 4,
 "nbformat_minor": 2
}
